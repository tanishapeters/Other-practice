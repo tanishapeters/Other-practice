{
 "cells": [
  {
   "cell_type": "code",
   "execution_count": 94,
   "metadata": {},
   "outputs": [
    {
     "name": "stdout",
     "output_type": "stream",
     "text": [
      "['dog', 'dog', 'dog', 'dog']\n"
     ]
    },
    {
     "data": {
      "text/plain": [
       "False"
      ]
     },
     "execution_count": 94,
     "metadata": {},
     "output_type": "execute_result"
    }
   ],
   "source": [
    "class solution:\n",
    "    def wordPattern(self, pattern: str, s:str) ->bool:\n",
    "        #test=len(s.split())\n",
    "        #print (test)\n",
    "        char_map={}\n",
    "        word_map={}\n",
    "        arr=s.split()\n",
    "        #print (arr)\n",
    "        if len(s.split())!=len(pattern):\n",
    "                return False\n",
    "        for i in range (len(pattern)):\n",
    "            #if len(pattern)>300:\n",
    "                return False\n",
    "            \n",
    "        else :\n",
    "            print (arr)\n",
    "        return char_map + word_map\n",
    "        \n",
    "a=solution()\n",
    "a.wordPattern(\"abba\",\"dog dog dog dog\")"
   ]
  },
  {
   "cell_type": "code",
   "execution_count": 99,
   "metadata": {},
   "outputs": [
    {
     "name": "stdout",
     "output_type": "stream",
     "text": [
      "['dog', 'cat', 'cat', 'dog']\n"
     ]
    },
    {
     "data": {
      "text/plain": [
       "False"
      ]
     },
     "execution_count": 99,
     "metadata": {},
     "output_type": "execute_result"
    }
   ],
   "source": [
    "class Solution(object):\n",
    "    def wordPattern(self, pattern, str):\n",
    "      \n",
    "        words = str.split()\n",
    "        if len(words) != len(pattern):\n",
    "            return False\n",
    "        else:\n",
    "            return len(set(pattern)) == len(set(words)) == len(set(zip(pattern, words)))\n",
    "a=solution()\n",
    "#a.wordPattern(\"abba\",\"dog dog dog dog\")\n",
    "#a.wordPattern(\"abba\",\"dog cat cat fish\")\n",
    "#a.wordPattern(\"aaaa\",\"dog cat cat dog\")\n",
    "a.wordPattern(\"abba\",\"dog cat cat dog\")"
   ]
  },
  {
   "cell_type": "code",
   "execution_count": null,
   "metadata": {},
   "outputs": [],
   "source": [
    "#working copied from internet\n",
    "class solution:\n",
    "    def repeatedSubstringPattern(self, s: str) ->bool:\n",
    "           \n",
    "        for i in range(1,int(len(s)/2)+1):\n",
    "            if set(s.split(s[0:i])) == {''}:\n",
    "                return True \n",
    "        return False\n",
    "a=solution()\n",
    "#a.repeatedSubstringPattern(\"abab\")\n",
    "#a.repeatedSubstringPattern(\"abcabcabcabc\")\n",
    "#a.repeatedSubstringPattern(\"ababab\")\n",
    "a.repeatedSubstringPattern(\"abcde\")"
   ]
  },
  {
   "cell_type": "code",
   "execution_count": 72,
   "metadata": {},
   "outputs": [
    {
     "name": "stdout",
     "output_type": "stream",
     "text": [
      "bcdeabcd\n"
     ]
    }
   ],
   "source": [
    "#working copied from internet\n",
    "class solution:\n",
    "    def repeatedSubstringPattern(self, s: str) ->bool:\n",
    "        return s in (s + s )[1: -1]    \n",
    "        #print ( (s + s ) [1: -1])\n",
    "        \n",
    "a=solution()\n",
    "#a.repeatedSubstringPattern(\"abab\")\n",
    "#a.repeatedSubstringPattern(\"abcabcabcabc\")\n",
    "#a.repeatedSubstringPattern(\"ababab\")\n",
    "a.repeatedSubstringPattern(\"abcde\")"
   ]
  },
  {
   "cell_type": "code",
   "execution_count": null,
   "metadata": {},
   "outputs": [],
   "source": [
    "#works\n",
    "class Solution:\n",
    "    def findMaximumXOR(self, nums: int) :\n",
    "        ma=max(nums)\n",
    "        n=len(nums)\n",
    "        arr=[]\n",
    "        \n",
    "        for i in range (n):\n",
    "            for j in range (n):\n",
    "                #print(n)\n",
    "                ans=nums[i] ^ nums[j]\n",
    "                arr.append(ans)\n",
    "                #ans=ma\n",
    "        return max(arr)\n",
    "            #return arr     \n",
    "\n",
    "a=Solution()\n",
    "#a.findMaximumXOR([3,10,5,25,2,8])\n",
    "#a.findMaximumXOR([2,4])    \n",
    "#a.findMaximumXOR([0]) \n",
    "#a.findMaximumXOR([14,70,53,83,49,91,36,80,92,51,66,70]) \n",
    "a.findMaximumXOR([8,10,2]) \n",
    "#a.findMaximumXOR([1,2,3,4,5,6,7])"
   ]
  },
  {
   "cell_type": "code",
   "execution_count": 72,
   "metadata": {},
   "outputs": [
    {
     "data": {
      "text/plain": [
       "5"
      ]
     },
     "execution_count": 72,
     "metadata": {},
     "output_type": "execute_result"
    }
   ],
   "source": [
    "class Solution:\n",
    "        def lengthOfLastWord(self, s: str): \n",
    "            #def lengthOfLastWord():\n",
    "            #s=\"Hello World \"\n",
    "            n = len(s)\n",
    "            lenLastWord=0\n",
    "            if s==\" \":\n",
    "                    return 0\n",
    "            for i in range (n,0,-1):\n",
    "                if s[i-1]==\" \" and lenLastWord==0:\n",
    "                    lenLastWord=0\n",
    "                elif (s[i-1])!=\" \":\n",
    "                    lenLastWord=lenLastWord+1\n",
    "                else:\n",
    "                    break\n",
    "\n",
    "            return lenLastWord\n",
    "\n",
    "        #lengthOfLastWord()\n",
    "a= Solution()\n",
    "a.lengthOfLastWord(\"Hello World\")"
   ]
  },
  {
   "cell_type": "code",
   "execution_count": 3,
   "metadata": {},
   "outputs": [
    {
     "name": "stdout",
     "output_type": "stream",
     "text": [
      "(1, 2, 1, 2)\n",
      "(1, 3, 1, 3)\n",
      "(2, 3, 2, 3)\n",
      "(1, 4, 1, 4)\n",
      "(2, 4, 2, 4)\n",
      "(3, 4, 3, 4)\n"
     ]
    },
    {
     "data": {
      "text/plain": [
       "[1, 2, 3, 4]"
      ]
     },
     "execution_count": 3,
     "metadata": {},
     "output_type": "execute_result"
    }
   ],
   "source": [
    "#Incomplete\n",
    "def largestTimeFromDigits():\n",
    "    \n",
    "    #A=[1,0,3,15]\n",
    "    A=[1,2,3,4]\n",
    "    n=len(A)\n",
    "    hmax=0\n",
    "    mmax=0\n",
    "    HH=0\n",
    "    MM=0\n",
    "    \n",
    "    for i in range (0,n):\n",
    "        for j in range (0,i):\n",
    "            if A[i]>=0 and A[i]<=9 and A[j]>=0 and A[j]<=9:\n",
    "                hmax,mmax=(A[j],A[i]), (A[j],A[i])\n",
    "                #mmax=A[j],A[i]\n",
    "                #print (A[j],A[i],A[i],A[j])\n",
    "                print(hmax + mmax)\n",
    "                \n",
    "    \n",
    "    \n",
    "    return A\n",
    "\n",
    "largestTimeFromDigits()"
   ]
  },
  {
   "cell_type": "code",
   "execution_count": null,
   "metadata": {},
   "outputs": [],
   "source": []
  }
 ],
 "metadata": {
  "kernelspec": {
   "display_name": "Python 3",
   "language": "python",
   "name": "python3"
  },
  "language_info": {
   "codemirror_mode": {
    "name": "ipython",
    "version": 3
   },
   "file_extension": ".py",
   "mimetype": "text/x-python",
   "name": "python",
   "nbconvert_exporter": "python",
   "pygments_lexer": "ipython3",
   "version": "3.7.6"
  }
 },
 "nbformat": 4,
 "nbformat_minor": 4
}
